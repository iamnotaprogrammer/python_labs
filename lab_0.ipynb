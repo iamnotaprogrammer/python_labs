{
 "cells": [
  {
   "cell_type": "markdown",
   "metadata": {},
   "source": [
    "## Лабораторная работа №0"
   ]
  },
  {
   "cell_type": "markdown",
   "metadata": {},
   "source": [
    "__Задача 1 (3).__ Дано натуральное число $A$. Определите, каким по счету числом Фибоначчи оно является. Если $A$ не является числом Фибоначчи, выведите -1.\n",
    "\n",
    "INPUT: 13\n",
    "\n",
    "OUTPUT: 7"
   ]
  },
  {
   "cell_type": "code",
   "execution_count": 65,
   "metadata": {},
   "outputs": [
    {
     "name": "stdout",
     "output_type": "stream",
     "text": [
      "2\n",
      "3\n",
      "4\n",
      "5\n",
      "6\n",
      "7\n",
      " 0 is not fib number\n",
      " 6 is not fib number\n"
     ]
    }
   ],
   "source": [
    "class FibException(Exception):\n",
    "    pass\n",
    "\n",
    "def fib_order(n):\n",
    "    first, second = 1,1\n",
    "    i = 2\n",
    "    while True:\n",
    "        first,second = second, first+second\n",
    "        if first == n:\n",
    "            return i\n",
    "        elif first >= n:\n",
    "            raise FibException(' {} is not fib number'.format(n))\n",
    "        else:\n",
    "            i += 1\n",
    "print(fib_order(1))\n",
    "print(fib_order(2))\n",
    "print(fib_order(3))\n",
    "print(fib_order(5))\n",
    "print(fib_order(8))\n",
    "print(fib_order(13))\n",
    "try: \n",
    "    fib_order(0)\n",
    "except FibException as e:\n",
    "    print(e)\n",
    "try: \n",
    "    fib_order(6)\n",
    "except FibException as e:\n",
    "    print(e)"
   ]
  },
  {
   "cell_type": "markdown",
   "metadata": {},
   "source": [
    "__Задача 2 (4).__ Даны два списка чисел. Найдите все числа, которые входят как в первый, так и во второй список. Выведите их в порядке возрастания.\n",
    "\n",
    "INPUT:\n",
    "\n",
    "[1, 3, 3, 0]\n",
    "\n",
    "[2, 3, 7, 1, 3]\n",
    "\n",
    "OUTPUT: 1 3"
   ]
  },
  {
   "cell_type": "code",
   "execution_count": 11,
   "metadata": {},
   "outputs": [
    {
     "name": "stdout",
     "output_type": "stream",
     "text": [
      "{1, 3}\n",
      "{1, 3}\n"
     ]
    }
   ],
   "source": [
    "a = [1, 3, 3, 0]\n",
    "b = [2, 3, 7, 1, 3]\n",
    "print(set(a) & set(b))\n",
    "answer = {i for i in a if i in b}\n",
    "print(answer)\n"
   ]
  },
  {
   "cell_type": "markdown",
   "metadata": {},
   "source": [
    "__Задача 3 (4).__\n",
    "Дан список целых чисел, абсолютное значение каждого из которых не превосходит 100. Требуется найти произведение элементов списка, расположенных между наибольшим и наименьшим элементами данного списка. Известно, что наибольший и наименьший элементы уникальны и не должны входить в искомое произведение.\n",
    "\n",
    "Пример:\n",
    "\n",
    "INPUT: \n",
    "\n",
    "[-14, 7, -21, 3, -1, 9]\n",
    "\n",
    "OUTPUT: -3"
   ]
  },
  {
   "cell_type": "code",
   "execution_count": 33,
   "metadata": {},
   "outputs": [
    {
     "name": "stdout",
     "output_type": "stream",
     "text": [
      "-3\n"
     ]
    }
   ],
   "source": [
    "import operator\n",
    "import functools\n",
    "data = [-14, 7, -21, 3, -1, 9]\n",
    "if len(data[data.index(min(data)):data.index(max(data))]) >0:\n",
    "    print(functools.reduce(operator.mul, data[data.index(min(data))+1:data.index(max(data))], 1))\n",
    "else:\n",
    "    print(functools.reduce(operator.mul, data[data.index(max(data))+1:data.index(min(data))], 1))"
   ]
  },
  {
   "cell_type": "markdown",
   "metadata": {},
   "source": [
    "__Задача 4 (4).__\n",
    "Дана строка. Выведите слово, которое в данной строке встречается чаще всего. Если таких слов несколько, выведите то, которое меньше в лексикографическом порядке.\n",
    "\n",
    "INPUT:\n",
    "\n",
    "'cat foo app app bat cat'\n",
    "\n",
    "OUTPUT: 'app'"
   ]
  },
  {
   "cell_type": "code",
   "execution_count": 55,
   "metadata": {},
   "outputs": [
    {
     "data": {
      "text/plain": [
       "('app', 2)"
      ]
     },
     "execution_count": 55,
     "metadata": {},
     "output_type": "execute_result"
    }
   ],
   "source": [
    "from collections import Counter\n",
    "data = 'cat foo app app bat cat'\n",
    "sorted(Counter(data.split()).items(), key=lambda x: (-x[1], x[0]))[0]"
   ]
  },
  {
   "cell_type": "markdown",
   "metadata": {},
   "source": [
    "__Задача 5 (5).__\n",
    "Даны список строк и список символов. Требуется определить, сколько слов из первого списка можно составить, используя элементы второго списка.\n",
    "\n",
    "Пример:\n",
    "\n",
    "INPUT: \n",
    "\n",
    "['banana', 'anna', 'cat', 'bat']  \n",
    "\n",
    "['a', 'a', 'b', 'n', 't', 'n']\n",
    "\n",
    "OUTPUT: 2"
   ]
  },
  {
   "cell_type": "code",
   "execution_count": 62,
   "metadata": {},
   "outputs": [
    {
     "name": "stdout",
     "output_type": "stream",
     "text": [
      "2\n"
     ]
    }
   ],
   "source": [
    "chars = ['a', 'a', 'b', 'n', 't', 'n']\n",
    "chars_count = Counter(chars)\n",
    "words = ['banana', 'anna', 'cat', 'bat']\n",
    "count=0\n",
    "for word in words:\n",
    "    chars_count = Counter(chars)\n",
    "    for char in word:\n",
    "        try:\n",
    "            chars_count[char] = chars_count[char] - 1\n",
    "        except KeyErorr as e:\n",
    "            break\n",
    "        else:\n",
    "            if chars_count[char] < 0:\n",
    "                break\n",
    "    else:\n",
    "        count +=1\n",
    "print(count)"
   ]
  },
  {
   "cell_type": "code",
   "execution_count": 154,
   "metadata": {
    "collapsed": true
   },
   "outputs": [],
   "source": [
    "def mult():\n",
    "    res = 1\n",
    "    while True:\n",
    "        if res == 'end':\n",
    "            return res\n",
    "        res *= yield res"
   ]
  },
  {
   "cell_type": "code",
   "execution_count": 12,
   "metadata": {},
   "outputs": [
    {
     "ename": "TypeError",
     "evalue": "'generator' object is not callable",
     "output_type": "error",
     "traceback": [
      "\u001b[0;31m---------------------------------------------------------------------------\u001b[0m",
      "\u001b[0;31mTypeError\u001b[0m                                 Traceback (most recent call last)",
      "\u001b[0;32m<ipython-input-12-a70307b888a4>\u001b[0m in \u001b[0;36m<module>\u001b[0;34m()\u001b[0m\n\u001b[1;32m      1\u001b[0m \u001b[0mdata\u001b[0m \u001b[0;34m=\u001b[0m \u001b[0;34m[\u001b[0m\u001b[0;36m1\u001b[0m\u001b[0;34m,\u001b[0m\u001b[0;36m2\u001b[0m\u001b[0;34m,\u001b[0m\u001b[0;36m3\u001b[0m\u001b[0;34m]\u001b[0m\u001b[0;34m\u001b[0m\u001b[0m\n\u001b[1;32m      2\u001b[0m \u001b[0mmult\u001b[0m \u001b[0;34m=\u001b[0m \u001b[0mmult\u001b[0m\u001b[0;34m(\u001b[0m\u001b[0;34m)\u001b[0m\u001b[0;34m\u001b[0m\u001b[0m\n\u001b[0;32m----> 3\u001b[0;31m \u001b[0mlist\u001b[0m\u001b[0;34m(\u001b[0m\u001b[0mmap\u001b[0m\u001b[0;34m(\u001b[0m\u001b[0mmult\u001b[0m\u001b[0;34m,\u001b[0m \u001b[0mdata\u001b[0m\u001b[0;34m)\u001b[0m\u001b[0;34m)\u001b[0m\u001b[0;34m\u001b[0m\u001b[0m\n\u001b[0m",
      "\u001b[0;31mTypeError\u001b[0m: 'generator' object is not callable"
     ]
    }
   ],
   "source": [
    "data = [1,2,3]\n",
    "mult = mult()\n",
    "list(map(mult, data))"
   ]
  },
  {
   "cell_type": "code",
   "execution_count": 152,
   "metadata": {
    "collapsed": true
   },
   "outputs": [],
   "source": [
    "gen = mult()"
   ]
  },
  {
   "cell_type": "code",
   "execution_count": 151,
   "metadata": {},
   "outputs": [
    {
     "ename": "UnboundLocalError",
     "evalue": "local variable 'x' referenced before assignment",
     "output_type": "error",
     "traceback": [
      "\u001b[0;31m---------------------------------------------------------------------------\u001b[0m",
      "\u001b[0;31mUnboundLocalError\u001b[0m                         Traceback (most recent call last)",
      "\u001b[0;32m<ipython-input-151-8a6233884a6c>\u001b[0m in \u001b[0;36m<module>\u001b[0;34m()\u001b[0m\n\u001b[0;32m----> 1\u001b[0;31m \u001b[0mnext\u001b[0m\u001b[0;34m(\u001b[0m\u001b[0mgen\u001b[0m\u001b[0;34m)\u001b[0m\u001b[0;34m\u001b[0m\u001b[0m\n\u001b[0m",
      "\u001b[0;32m<ipython-input-149-4a1055408d31>\u001b[0m in \u001b[0;36mmult\u001b[0;34m()\u001b[0m\n\u001b[1;32m      4\u001b[0m         \u001b[0;32mif\u001b[0m \u001b[0mres\u001b[0m \u001b[0;34m==\u001b[0m \u001b[0;34m'end'\u001b[0m\u001b[0;34m:\u001b[0m\u001b[0;34m\u001b[0m\u001b[0m\n\u001b[1;32m      5\u001b[0m             \u001b[0;32mreturn\u001b[0m \u001b[0mres\u001b[0m\u001b[0;34m\u001b[0m\u001b[0m\n\u001b[0;32m----> 6\u001b[0;31m         \u001b[0mx\u001b[0m \u001b[0;34m=\u001b[0m \u001b[0;32myield\u001b[0m \u001b[0mx\u001b[0m\u001b[0;34m\u001b[0m\u001b[0m\n\u001b[0m\u001b[1;32m      7\u001b[0m         \u001b[0mprint\u001b[0m\u001b[0;34m(\u001b[0m\u001b[0mx\u001b[0m\u001b[0;34m)\u001b[0m\u001b[0;34m\u001b[0m\u001b[0m\n\u001b[1;32m      8\u001b[0m         \u001b[0;32myield\u001b[0m \u001b[0mx\u001b[0m\u001b[0;34m\u001b[0m\u001b[0m\n",
      "\u001b[0;31mUnboundLocalError\u001b[0m: local variable 'x' referenced before assignment"
     ]
    }
   ],
   "source": [
    "next(gen)"
   ]
  },
  {
   "cell_type": "code",
   "execution_count": 153,
   "metadata": {},
   "outputs": [
    {
     "ename": "TypeError",
     "evalue": "can't send non-None value to a just-started generator",
     "output_type": "error",
     "traceback": [
      "\u001b[0;31m---------------------------------------------------------------------------\u001b[0m",
      "\u001b[0;31mTypeError\u001b[0m                                 Traceback (most recent call last)",
      "\u001b[0;32m<ipython-input-153-dc95b56a4da1>\u001b[0m in \u001b[0;36m<module>\u001b[0;34m()\u001b[0m\n\u001b[0;32m----> 1\u001b[0;31m \u001b[0mprint\u001b[0m\u001b[0;34m(\u001b[0m\u001b[0mgen\u001b[0m\u001b[0;34m.\u001b[0m\u001b[0msend\u001b[0m\u001b[0;34m(\u001b[0m\u001b[0;36m1\u001b[0m\u001b[0;34m)\u001b[0m\u001b[0;34m)\u001b[0m\u001b[0;34m\u001b[0m\u001b[0m\n\u001b[0m",
      "\u001b[0;31mTypeError\u001b[0m: can't send non-None value to a just-started generator"
     ]
    }
   ],
   "source": [
    "print(gen.send(1))"
   ]
  },
  {
   "cell_type": "code",
   "execution_count": 130,
   "metadata": {},
   "outputs": [
    {
     "name": "stdout",
     "output_type": "stream",
     "text": [
      "None\n"
     ]
    }
   ],
   "source": [
    "print(a)"
   ]
  },
  {
   "cell_type": "code",
   "execution_count": null,
   "metadata": {
    "collapsed": true
   },
   "outputs": [],
   "source": []
  }
 ],
 "metadata": {
  "kernelspec": {
   "display_name": "Python 3",
   "language": "python",
   "name": "python3"
  },
  "language_info": {
   "codemirror_mode": {
    "name": "ipython",
    "version": 3
   },
   "file_extension": ".py",
   "mimetype": "text/x-python",
   "name": "python",
   "nbconvert_exporter": "python",
   "pygments_lexer": "ipython3",
   "version": "3.6.3"
  }
 },
 "nbformat": 4,
 "nbformat_minor": 2
}
