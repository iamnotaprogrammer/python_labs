{
 "cells": [
  {
   "cell_type": "markdown",
   "metadata": {},
   "source": [
    "## Лабораторная работа №1"
   ]
  },
  {
   "cell_type": "markdown",
   "metadata": {},
   "source": [
    "При помощи функции loadtxt из пакета NumPy загрузите массив, содержащий данные о фильмах. "
   ]
  },
  {
   "cell_type": "code",
   "execution_count": 216,
   "metadata": {
    "collapsed": true
   },
   "outputs": [],
   "source": [
    "import numpy as np\n",
    "\n",
    "data = np.loadtxt('data.txt')\n",
    "dataT = data.T"
   ]
  },
  {
   "cell_type": "markdown",
   "metadata": {},
   "source": [
    "Описание столбцов:\n",
    "1. Комедия (0 - нет, 1 - да)\n",
    "2. Драма (0 - нет, 1 - да)\n",
    "3. Семейные (0 - нет, 1 - да)\n",
    "4. Год\n",
    "5. Бюджет\n",
    "6. Сборы\n",
    "7. Продолжительность\n",
    "8. Рейтинг"
   ]
  },
  {
   "cell_type": "markdown",
   "metadata": {},
   "source": [
    "__Задание 1 (0.5).__\n",
    "\n",
    "Сколько фильмов описано в данных?"
   ]
  },
  {
   "cell_type": "code",
   "execution_count": 219,
   "metadata": {},
   "outputs": [
    {
     "data": {
      "text/plain": [
       "2345"
      ]
     },
     "execution_count": 219,
     "metadata": {},
     "output_type": "execute_result"
    }
   ],
   "source": [
    "len(data)"
   ]
  },
  {
   "cell_type": "markdown",
   "metadata": {},
   "source": [
    "__Задание 2 (0.5).__\n",
    "\n",
    "Сколько комедий содержится в данных?"
   ]
  },
  {
   "cell_type": "code",
   "execution_count": 221,
   "metadata": {},
   "outputs": [
    {
     "data": {
      "text/plain": [
       "1110"
      ]
     },
     "execution_count": 221,
     "metadata": {},
     "output_type": "execute_result"
    }
   ],
   "source": [
    "comedians = data[:,0] == 1\n",
    "len(data[comedians == 1])"
   ]
  },
  {
   "cell_type": "markdown",
   "metadata": {},
   "source": [
    "__Задание 3 (1).__\n",
    "\n",
    "Есть ли в данных фильмы, являющиеся одновременно комедией и драмой? Сколько их?"
   ]
  },
  {
   "cell_type": "code",
   "execution_count": 46,
   "metadata": {},
   "outputs": [
    {
     "data": {
      "text/plain": [
       "320"
      ]
     },
     "execution_count": 46,
     "metadata": {},
     "output_type": "execute_result"
    }
   ],
   "source": [
    "dataT = data.T\n",
    "mask = (dataT[0] == 1.) & (dataT[1] == 1.)\n",
    "len(mask[mask])"
   ]
  },
  {
   "cell_type": "markdown",
   "metadata": {},
   "source": [
    "__Задание 4 (1).__\n",
    "\n",
    "Найдите средний рейтинг по всем фильмам."
   ]
  },
  {
   "cell_type": "code",
   "execution_count": 136,
   "metadata": {},
   "outputs": [
    {
     "data": {
      "text/plain": [
       "6.3651599147121409"
      ]
     },
     "execution_count": 136,
     "metadata": {},
     "output_type": "execute_result"
    }
   ],
   "source": [
    "data.mean(axis=0)[7]"
   ]
  },
  {
   "cell_type": "markdown",
   "metadata": {},
   "source": [
    "__Задание 5 (1).__\n",
    "\n",
    "Найдите среднюю продолжительность семейных фильмов."
   ]
  },
  {
   "cell_type": "code",
   "execution_count": 138,
   "metadata": {},
   "outputs": [
    {
     "data": {
      "text/plain": [
       "98.550684931506851"
      ]
     },
     "execution_count": 138,
     "metadata": {},
     "output_type": "execute_result"
    }
   ],
   "source": [
    "mask = dataT[2] == 1.\n",
    "data[mask].mean(axis=0)[6]"
   ]
  },
  {
   "cell_type": "markdown",
   "metadata": {},
   "source": [
    "__Задание 6 (1).__\n",
    "\n",
    "Найдите стандартное отклонение прибыли (сборы - бюджет) для драм?"
   ]
  },
  {
   "cell_type": "code",
   "execution_count": 224,
   "metadata": {
    "scrolled": true
   },
   "outputs": [
    {
     "data": {
      "text/plain": [
       "array([[  0.00000000e+00,   1.00000000e+00,   0.00000000e+00, ...,\n",
       "          1.08493910e+09,   1.65000000e+02,   7.60000000e+00],\n",
       "       [  0.00000000e+00,   1.00000000e+00,   0.00000000e+00, ...,\n",
       "          5.50000000e+08,   1.87000000e+02,   6.60000000e+00],\n",
       "       [  0.00000000e+00,   1.00000000e+00,   0.00000000e+00, ...,\n",
       "          1.84503419e+09,   1.94000000e+02,   7.50000000e+00],\n",
       "       ..., \n",
       "       [  1.00000000e+00,   1.00000000e+00,   0.00000000e+00, ...,\n",
       "          4.16498000e+05,   9.90000000e+01,   5.60000000e+00],\n",
       "       [  1.00000000e+00,   1.00000000e+00,   0.00000000e+00, ...,\n",
       "          1.00000000e+04,   8.90000000e+01,   6.30000000e+00],\n",
       "       [  0.00000000e+00,   1.00000000e+00,   0.00000000e+00, ...,\n",
       "          4.24760000e+05,   7.70000000e+01,   6.90000000e+00]])"
      ]
     },
     "execution_count": 224,
     "metadata": {},
     "output_type": "execute_result"
    }
   ],
   "source": [
    "data[dataT[1] == 1]\n",
    "# mask = dataT[1] == 1.\n",
    "# (data[mask,5] - data[mask,4]).std()"
   ]
  },
  {
   "cell_type": "markdown",
   "metadata": {},
   "source": [
    "__Задание 7 (1).__\n",
    "\n",
    "Выведите данные о фильме с самым низким рейтингом. Является ли фильм с таким рейтингом единственным?"
   ]
  },
  {
   "cell_type": "code",
   "execution_count": 167,
   "metadata": {},
   "outputs": [
    {
     "data": {
      "text/plain": [
       "2"
      ]
     },
     "execution_count": 167,
     "metadata": {},
     "output_type": "execute_result"
    }
   ],
   "source": [
    "res = min(data, key=lambda x: x[7])\n",
    "len(data[data[:,7]== res[7]])"
   ]
  },
  {
   "cell_type": "markdown",
   "metadata": {},
   "source": [
    "__Задание 8 (1).__\n",
    "\n",
    "Среди фильмов с рейтингом выше 7.0 найдите доли фильмов по годам. Выведите их в порядке убывания."
   ]
  },
  {
   "cell_type": "code",
   "execution_count": 168,
   "metadata": {},
   "outputs": [
    {
     "data": {
      "text/plain": [
       "array([ 2012.,  2010.,  2009., ...,  1994.,  1972.,  2004.])"
      ]
     },
     "execution_count": 168,
     "metadata": {},
     "output_type": "execute_result"
    }
   ],
   "source": [
    "dataT[films_rat_more_7][0]"
   ]
  },
  {
   "cell_type": "code",
   "execution_count": 176,
   "metadata": {},
   "outputs": [
    {
     "data": {
      "text/plain": [
       "[(2013.0, 0.047808764940239043),\n",
       " (2014.0, 0.047808764940239043),\n",
       " (2004.0, 0.041832669322709161),\n",
       " (2006.0, 0.041832669322709161),\n",
       " (2015.0, 0.041832669322709161),\n",
       " (2007.0, 0.039840637450199202),\n",
       " (2002.0, 0.037848605577689244),\n",
       " (2009.0, 0.037848605577689244),\n",
       " (2008.0, 0.035856573705179286),\n",
       " (2010.0, 0.035856573705179286),\n",
       " (1998.0, 0.03386454183266932),\n",
       " (1999.0, 0.03386454183266932),\n",
       " (2001.0, 0.03386454183266932),\n",
       " (1997.0, 0.029880478087649404),\n",
       " (2003.0, 0.029880478087649404),\n",
       " (2000.0, 0.027888446215139442),\n",
       " (2005.0, 0.027888446215139442),\n",
       " (2012.0, 0.027888446215139442),\n",
       " (1995.0, 0.021912350597609563),\n",
       " (2011.0, 0.019920318725099601),\n",
       " (1993.0, 0.017928286852589643),\n",
       " (1994.0, 0.013944223107569721),\n",
       " (1990.0, 0.011952191235059761),\n",
       " (1992.0, 0.011952191235059761),\n",
       " (1964.0, 0.0099601593625498006),\n",
       " (1980.0, 0.0099601593625498006),\n",
       " (1987.0, 0.0099601593625498006),\n",
       " (2016.0, 0.0099601593625498006),\n",
       " (1962.0, 0.0079681274900398405),\n",
       " (1974.0, 0.0079681274900398405),\n",
       " (1981.0, 0.0079681274900398405),\n",
       " (1982.0, 0.0079681274900398405),\n",
       " (1983.0, 0.0079681274900398405),\n",
       " (1989.0, 0.0079681274900398405),\n",
       " (1991.0, 0.0079681274900398405),\n",
       " (1996.0, 0.0079681274900398405),\n",
       " (1939.0, 0.0059760956175298804),\n",
       " (1960.0, 0.0059760956175298804),\n",
       " (1961.0, 0.0059760956175298804),\n",
       " (1973.0, 0.0059760956175298804),\n",
       " (1975.0, 0.0059760956175298804),\n",
       " (1976.0, 0.0059760956175298804),\n",
       " (1977.0, 0.0059760956175298804),\n",
       " (1985.0, 0.0059760956175298804),\n",
       " (1986.0, 0.0059760956175298804),\n",
       " (1988.0, 0.0059760956175298804),\n",
       " (1940.0, 0.0039840637450199202),\n",
       " (1945.0, 0.0039840637450199202),\n",
       " (1946.0, 0.0039840637450199202),\n",
       " (1954.0, 0.0039840637450199202),\n",
       " (1957.0, 0.0039840637450199202),\n",
       " (1959.0, 0.0039840637450199202),\n",
       " (1963.0, 0.0039840637450199202),\n",
       " (1965.0, 0.0039840637450199202),\n",
       " (1967.0, 0.0039840637450199202),\n",
       " (1969.0, 0.0039840637450199202),\n",
       " (1971.0, 0.0039840637450199202),\n",
       " (1972.0, 0.0039840637450199202),\n",
       " (1979.0, 0.0039840637450199202),\n",
       " (1916.0, 0.0019920318725099601),\n",
       " (1927.0, 0.0019920318725099601),\n",
       " (1934.0, 0.0019920318725099601),\n",
       " (1935.0, 0.0019920318725099601),\n",
       " (1936.0, 0.0019920318725099601),\n",
       " (1938.0, 0.0019920318725099601),\n",
       " (1942.0, 0.0019920318725099601),\n",
       " (1950.0, 0.0019920318725099601),\n",
       " (1951.0, 0.0019920318725099601),\n",
       " (1952.0, 0.0019920318725099601),\n",
       " (1953.0, 0.0019920318725099601),\n",
       " (1958.0, 0.0019920318725099601),\n",
       " (1966.0, 0.0019920318725099601),\n",
       " (1968.0, 0.0019920318725099601),\n",
       " (1970.0, 0.0019920318725099601),\n",
       " (1978.0, 0.0019920318725099601),\n",
       " (1984.0, 0.0019920318725099601)]"
      ]
     },
     "execution_count": 176,
     "metadata": {},
     "output_type": "execute_result"
    }
   ],
   "source": [
    "films_rat_more_7 = data[:,7] > 7.0\n",
    "films_rat_more_7\n",
    "unique, counts = np.unique(data[films_rat_more_7][:,3], return_counts=True,)\n",
    "sum_counts = sum(counts)\n",
    "counts = counts/sum_counts\n",
    "sorted(dict(zip(unique, counts)).items(), key=lambda x: -x[1])"
   ]
  },
  {
   "cell_type": "markdown",
   "metadata": {},
   "source": [
    "__Задание 9 (1).__\n",
    "\n",
    "Замените рейтинги фильмов на классы по следующему принципу:\n",
    "* если рейтинг был меньше 5, заменим его на 3\n",
    "* если рейтинг был от 5 до 7, заменм его на 2\n",
    "* если рейтинг был больше 7, заменим его на 1"
   ]
  },
  {
   "cell_type": "code",
   "execution_count": 214,
   "metadata": {},
   "outputs": [
    {
     "data": {
      "text/plain": [
       "array([[  0.00000000e+00,   1.00000000e+00,   0.00000000e+00, ...,\n",
       "          1.08493910e+09,   1.65000000e+02,   1.00000000e+00],\n",
       "       [  0.00000000e+00,   0.00000000e+00,   1.00000000e+00, ...,\n",
       "          5.91794936e+08,   1.00000000e+02,   1.00000000e+00],\n",
       "       [  0.00000000e+00,   0.00000000e+00,   1.00000000e+00, ...,\n",
       "          9.33959197e+08,   1.53000000e+02,   1.00000000e+00],\n",
       "       ..., \n",
       "       [  1.00000000e+00,   0.00000000e+00,   0.00000000e+00, ...,\n",
       "          3.15113000e+06,   9.20000000e+01,   1.00000000e+00],\n",
       "       [  1.00000000e+00,   0.00000000e+00,   0.00000000e+00, ...,\n",
       "          6.00000000e+06,   9.30000000e+01,   2.00000000e+00],\n",
       "       [  0.00000000e+00,   1.00000000e+00,   0.00000000e+00, ...,\n",
       "          4.24760000e+05,   7.70000000e+01,   2.00000000e+00]])"
      ]
     },
     "execution_count": 214,
     "metadata": {},
     "output_type": "execute_result"
    }
   ],
   "source": [
    "data1 = data[:]\n",
    "data1[data[:,7] < 5,7] = 3\n",
    "data1[(5 <=data[:,7]) & (data[:,7]<=7),7] = 2\n",
    "data1[data[:,7]>7,7] = 1\n",
    "data1"
   ]
  },
  {
   "cell_type": "markdown",
   "metadata": {},
   "source": [
    "__Задание 10* (2).__\n",
    "\n",
    "Проверьте, зависит ли класс фильма от бюджета."
   ]
  },
  {
   "cell_type": "code",
   "execution_count": 215,
   "metadata": {},
   "outputs": [
    {
     "data": {
      "text/plain": [
       "array([[ 1.        ,  0.02717585],\n",
       "       [ 0.02717585,  1.        ]])"
      ]
     },
     "execution_count": 215,
     "metadata": {},
     "output_type": "execute_result"
    }
   ],
   "source": [
    "np.corrcoef(data1[:,7], y=data1[:,4])"
   ]
  },
  {
   "cell_type": "code",
   "execution_count": 228,
   "metadata": {},
   "outputs": [
    {
     "ename": "ValueError",
     "evalue": "all the input array dimensions except for the concatenation axis must match exactly",
     "output_type": "error",
     "traceback": [
      "\u001b[0;31m---------------------------------------------------------------------------\u001b[0m",
      "\u001b[0;31mValueError\u001b[0m                                Traceback (most recent call last)",
      "\u001b[0;32m<ipython-input-228-b86f8f6037de>\u001b[0m in \u001b[0;36m<module>\u001b[0;34m()\u001b[0m\n\u001b[0;32m----> 1\u001b[0;31m \u001b[0mnp\u001b[0m\u001b[0;34m.\u001b[0m\u001b[0mcorrcoef\u001b[0m\u001b[0;34m(\u001b[0m\u001b[0mdata1\u001b[0m\u001b[0;34m[\u001b[0m\u001b[0;34m:\u001b[0m\u001b[0;34m,\u001b[0m \u001b[0;36m0\u001b[0m\u001b[0;34m:\u001b[0m\u001b[0;36m3\u001b[0m\u001b[0;34m]\u001b[0m\u001b[0;34m,\u001b[0m \u001b[0my\u001b[0m\u001b[0;34m=\u001b[0m\u001b[0mdata1\u001b[0m\u001b[0;34m[\u001b[0m\u001b[0;34m:\u001b[0m\u001b[0;34m,\u001b[0m\u001b[0;36m4\u001b[0m\u001b[0;34m]\u001b[0m\u001b[0;34m)\u001b[0m\u001b[0;34m\u001b[0m\u001b[0m\n\u001b[0m",
      "\u001b[0;32m/anaconda3/lib/python3.6/site-packages/numpy/lib/function_base.py\u001b[0m in \u001b[0;36mcorrcoef\u001b[0;34m(x, y, rowvar, bias, ddof)\u001b[0m\n\u001b[1;32m   3157\u001b[0m         warnings.warn('bias and ddof have no effect and are deprecated',\n\u001b[1;32m   3158\u001b[0m                       DeprecationWarning, stacklevel=2)\n\u001b[0;32m-> 3159\u001b[0;31m     \u001b[0mc\u001b[0m \u001b[0;34m=\u001b[0m \u001b[0mcov\u001b[0m\u001b[0;34m(\u001b[0m\u001b[0mx\u001b[0m\u001b[0;34m,\u001b[0m \u001b[0my\u001b[0m\u001b[0;34m,\u001b[0m \u001b[0mrowvar\u001b[0m\u001b[0;34m)\u001b[0m\u001b[0;34m\u001b[0m\u001b[0m\n\u001b[0m\u001b[1;32m   3160\u001b[0m     \u001b[0;32mtry\u001b[0m\u001b[0;34m:\u001b[0m\u001b[0;34m\u001b[0m\u001b[0m\n\u001b[1;32m   3161\u001b[0m         \u001b[0md\u001b[0m \u001b[0;34m=\u001b[0m \u001b[0mdiag\u001b[0m\u001b[0;34m(\u001b[0m\u001b[0mc\u001b[0m\u001b[0;34m)\u001b[0m\u001b[0;34m\u001b[0m\u001b[0m\n",
      "\u001b[0;32m/anaconda3/lib/python3.6/site-packages/numpy/lib/function_base.py\u001b[0m in \u001b[0;36mcov\u001b[0;34m(m, y, rowvar, bias, ddof, fweights, aweights)\u001b[0m\n\u001b[1;32m   3026\u001b[0m         \u001b[0;32mif\u001b[0m \u001b[0;32mnot\u001b[0m \u001b[0mrowvar\u001b[0m \u001b[0;32mand\u001b[0m \u001b[0my\u001b[0m\u001b[0;34m.\u001b[0m\u001b[0mshape\u001b[0m\u001b[0;34m[\u001b[0m\u001b[0;36m0\u001b[0m\u001b[0;34m]\u001b[0m \u001b[0;34m!=\u001b[0m \u001b[0;36m1\u001b[0m\u001b[0;34m:\u001b[0m\u001b[0;34m\u001b[0m\u001b[0m\n\u001b[1;32m   3027\u001b[0m             \u001b[0my\u001b[0m \u001b[0;34m=\u001b[0m \u001b[0my\u001b[0m\u001b[0;34m.\u001b[0m\u001b[0mT\u001b[0m\u001b[0;34m\u001b[0m\u001b[0m\n\u001b[0;32m-> 3028\u001b[0;31m         \u001b[0mX\u001b[0m \u001b[0;34m=\u001b[0m \u001b[0mnp\u001b[0m\u001b[0;34m.\u001b[0m\u001b[0mvstack\u001b[0m\u001b[0;34m(\u001b[0m\u001b[0;34m(\u001b[0m\u001b[0mX\u001b[0m\u001b[0;34m,\u001b[0m \u001b[0my\u001b[0m\u001b[0;34m)\u001b[0m\u001b[0;34m)\u001b[0m\u001b[0;34m\u001b[0m\u001b[0m\n\u001b[0m\u001b[1;32m   3029\u001b[0m \u001b[0;34m\u001b[0m\u001b[0m\n\u001b[1;32m   3030\u001b[0m     \u001b[0;32mif\u001b[0m \u001b[0mddof\u001b[0m \u001b[0;32mis\u001b[0m \u001b[0;32mNone\u001b[0m\u001b[0;34m:\u001b[0m\u001b[0;34m\u001b[0m\u001b[0m\n",
      "\u001b[0;32m/anaconda3/lib/python3.6/site-packages/numpy/core/shape_base.py\u001b[0m in \u001b[0;36mvstack\u001b[0;34m(tup)\u001b[0m\n\u001b[1;32m    235\u001b[0m \u001b[0;34m\u001b[0m\u001b[0m\n\u001b[1;32m    236\u001b[0m     \"\"\"\n\u001b[0;32m--> 237\u001b[0;31m     \u001b[0;32mreturn\u001b[0m \u001b[0m_nx\u001b[0m\u001b[0;34m.\u001b[0m\u001b[0mconcatenate\u001b[0m\u001b[0;34m(\u001b[0m\u001b[0;34m[\u001b[0m\u001b[0matleast_2d\u001b[0m\u001b[0;34m(\u001b[0m\u001b[0m_m\u001b[0m\u001b[0;34m)\u001b[0m \u001b[0;32mfor\u001b[0m \u001b[0m_m\u001b[0m \u001b[0;32min\u001b[0m \u001b[0mtup\u001b[0m\u001b[0;34m]\u001b[0m\u001b[0;34m,\u001b[0m \u001b[0;36m0\u001b[0m\u001b[0;34m)\u001b[0m\u001b[0;34m\u001b[0m\u001b[0m\n\u001b[0m\u001b[1;32m    238\u001b[0m \u001b[0;34m\u001b[0m\u001b[0m\n\u001b[1;32m    239\u001b[0m \u001b[0;32mdef\u001b[0m \u001b[0mhstack\u001b[0m\u001b[0;34m(\u001b[0m\u001b[0mtup\u001b[0m\u001b[0;34m)\u001b[0m\u001b[0;34m:\u001b[0m\u001b[0;34m\u001b[0m\u001b[0m\n",
      "\u001b[0;31mValueError\u001b[0m: all the input array dimensions except for the concatenation axis must match exactly"
     ]
    }
   ],
   "source": [
    "np.corrcoef(data1[:, 0:3], y=data1[:,4])"
   ]
  },
  {
   "cell_type": "code",
   "execution_count": null,
   "metadata": {
    "collapsed": true
   },
   "outputs": [],
   "source": []
  },
  {
   "cell_type": "code",
   "execution_count": null,
   "metadata": {
    "collapsed": true
   },
   "outputs": [],
   "source": []
  },
  {
   "cell_type": "code",
   "execution_count": null,
   "metadata": {
    "collapsed": true
   },
   "outputs": [],
   "source": []
  }
 ],
 "metadata": {
  "kernelspec": {
   "display_name": "Python 3",
   "language": "python",
   "name": "python3"
  },
  "language_info": {
   "codemirror_mode": {
    "name": "ipython",
    "version": 3
   },
   "file_extension": ".py",
   "mimetype": "text/x-python",
   "name": "python",
   "nbconvert_exporter": "python",
   "pygments_lexer": "ipython3",
   "version": "3.6.3"
  }
 },
 "nbformat": 4,
 "nbformat_minor": 2
}
